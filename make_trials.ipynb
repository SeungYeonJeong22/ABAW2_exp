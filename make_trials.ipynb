{
 "cells": [
  {
   "cell_type": "markdown",
   "metadata": {},
   "source": [
    "### annotation이 -5인 row 삭제"
   ]
  },
  {
   "cell_type": "code",
   "execution_count": 53,
   "metadata": {},
   "outputs": [
    {
     "data": {
      "text/plain": [
       "dict_keys(['Train_Set/86-24-1920x1080.txt', 'Train_Set/10-60-1280x720_right.txt', 'Validation_Set/video59_right.txt', 'Validation_Set/video76.txt'])"
      ]
     },
     "execution_count": 53,
     "metadata": {},
     "output_type": "execute_result"
    }
   ],
   "source": [
    "import os\n",
    "\n",
    "path = \"../data/Affwild2/annotations/VA_Estimation_Challenge\"\n",
    "err_annotation_row_dict = {}\n",
    "\n",
    "check_err = float(-5)\n",
    "\n",
    "flag = False\n",
    "\n",
    "for dirs in os.listdir(path):\n",
    "    vid_dir_path = os.path.join(path,dirs)\n",
    "    for files in os.listdir(vid_dir_path):\n",
    "        file_path = os.path.join(vid_dir_path, files)\n",
    "        with open(file_path, \"r\") as file:\n",
    "            row = file.readlines()\n",
    "            for idx, r in enumerate(row):\n",
    "                val, aro = r.strip().split(\",\")\n",
    "                if (not val == \"valence\" and not aro == 'arousal'):\n",
    "                    if check_err == float(val) or check_err == float(aro):\n",
    "                        file_name = \"/\".join(file.name.split(\"/\")[-2:])\n",
    "                        try:err_annotation_row_dict[file_name].append(idx)\n",
    "                        except:err_annotation_row_dict[file_name] = [idx]\n",
    "                        \n",
    "err_annotation_row_dict.keys()"
   ]
  },
  {
   "cell_type": "code",
   "execution_count": 61,
   "metadata": {},
   "outputs": [
    {
     "name": "stdout",
     "output_type": "stream",
     "text": [
      "Train_Set/86-24-1920x1080.txt \t\t:  148\n",
      "Train_Set/10-60-1280x720_right.txt \t\t:  1765\n",
      "Validation_Set/video59_right.txt \t\t:  1530\n",
      "Validation_Set/video76.txt \t\t:  263\n"
     ]
    }
   ],
   "source": [
    "for key in err_annotation_row_dict.keys():\n",
    "    print(key, \"\\t\\t: \", len(err_annotation_row_dict[key]))"
   ]
  },
  {
   "cell_type": "code",
   "execution_count": 56,
   "metadata": {},
   "outputs": [
    {
     "name": "stdout",
     "output_type": "stream",
     "text": [
      "../data/Affwild2/annotations/VA_Estimation_Challenge_remove_null/Train_Set/86-24-1920x1080.txt\n",
      "../data/Affwild2/annotations/VA_Estimation_Challenge_remove_null/Train_Set/10-60-1280x720_right.txt\n",
      "../data/Affwild2/annotations/VA_Estimation_Challenge_remove_null/Validation_Set/video59_right.txt\n",
      "../data/Affwild2/annotations/VA_Estimation_Challenge_remove_null/Validation_Set/video76.txt\n",
      "../data/Affwild2/annotations/VA_Estimation_Challenge_remove_null/Train_Set/86-24-1920x1080.txt\n",
      "../data/Affwild2/annotations/VA_Estimation_Challenge_remove_null/Train_Set/10-60-1280x720_right.txt\n",
      "../data/Affwild2/annotations/VA_Estimation_Challenge_remove_null/Validation_Set/video59_right.txt\n",
      "../data/Affwild2/annotations/VA_Estimation_Challenge_remove_null/Validation_Set/video76.txt\n"
     ]
    }
   ],
   "source": [
    "remove_path = \"../data/Affwild2/annotations/VA_Estimation_Challenge_remove_null/\"\n",
    "\n",
    "for dirs in os.listdir(remove_path):\n",
    "    for err_file in err_annotation_row_dict.keys():\n",
    "        remove_file_path = os.path.join(remove_path, err_file)\n",
    "        with open(remove_file_path, 'r') as input_file:\n",
    "            # 각 줄을 읽어오기\n",
    "            lines = input_file.readlines()\n",
    "            \n",
    "        # -5에 해당하는 줄을 걸러내기\n",
    "        filtered_lines = [line for line in lines if not line.startswith('-5')]\n",
    "        \n",
    "        os.system(f\"rm -r {remove_file_path}\")\n",
    "        \n",
    "        output_file_path = os.path.join(remove_path, err_file)\n",
    "\n",
    "        # 출력 파일을 쓰기 모드로 열기\n",
    "        with open(output_file_path, 'w') as output_file:\n",
    "            # 걸러낸 줄들을 쓰기\n",
    "            output_file.writelines(filtered_lines)"
   ]
  },
  {
   "cell_type": "markdown",
   "metadata": {},
   "source": [
    "### Annotation파일에 test_video의 이름이 있는 부분들이 있음 -> 삭제"
   ]
  },
  {
   "cell_type": "code",
   "execution_count": 64,
   "metadata": {},
   "outputs": [],
   "source": [
    "remove_path = \"../data/Affwild2/annotations/VA_Estimation_Challenge_remove_null/\"\n",
    "\n",
    "remove_files_list = [str(num) + \".txt\" for num in range(451, 501)]\n",
    "\n",
    "for partititon in os.listdir(remove_path):\n",
    "    partition_path = os.path.join(remove_path, partititon)\n",
    "    for file_name in os.listdir(partition_path):\n",
    "        if file_name in remove_files_list:\n",
    "            tgt_file_path = os.path.join(partition_path, file_name)\n",
    "            os.system(f\"rm -r {tgt_file_path}\")"
   ]
  }
 ],
 "metadata": {
  "kernelspec": {
   "display_name": "affwild_pre",
   "language": "python",
   "name": "python3"
  },
  "language_info": {
   "codemirror_mode": {
    "name": "ipython",
    "version": 3
   },
   "file_extension": ".py",
   "mimetype": "text/x-python",
   "name": "python",
   "nbconvert_exporter": "python",
   "pygments_lexer": "ipython3",
   "version": "3.7.12"
  }
 },
 "nbformat": 4,
 "nbformat_minor": 2
}
